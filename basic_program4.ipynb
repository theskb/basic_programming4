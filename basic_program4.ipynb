{
 "cells": [
  {
   "cell_type": "code",
   "execution_count": null,
   "metadata": {},
   "outputs": [],
   "source": [
    "#Q1.Write a Python Program to Find the Factorial of a Number?"
   ]
  },
  {
   "cell_type": "code",
   "execution_count": 4,
   "metadata": {},
   "outputs": [
    {
     "name": "stdout",
     "output_type": "stream",
     "text": [
      "Enter the number 10\n",
      "Factorial of 10 is 3628800\n"
     ]
    }
   ],
   "source": [
    "def fact(num):\n",
    "    if num==1 or num ==0:\n",
    "        return 1\n",
    "    return num*fact(num-1)\n",
    "\n",
    "num=int(input(\"Enter the number \"))\n",
    "\n",
    "print(\"Factorial of\",num,\"is\",fact(num))"
   ]
  },
  {
   "cell_type": "code",
   "execution_count": null,
   "metadata": {},
   "outputs": [],
   "source": [
    "#Q2.Write a Python Program to Display the multiplication Table?"
   ]
  },
  {
   "cell_type": "code",
   "execution_count": 5,
   "metadata": {},
   "outputs": [
    {
     "name": "stdout",
     "output_type": "stream",
     "text": [
      "Enter the number for table 11\n",
      "Multiplication table for 11\n",
      "11 x 1 = 11\n",
      "11 x 2 = 22\n",
      "11 x 3 = 33\n",
      "11 x 4 = 44\n",
      "11 x 5 = 55\n",
      "11 x 6 = 66\n",
      "11 x 7 = 77\n",
      "11 x 8 = 88\n",
      "11 x 9 = 99\n",
      "11 x 10 = 110\n"
     ]
    }
   ],
   "source": [
    "x=int(input(\"Enter the number for table \"))\n",
    "print(\"Multiplication table for\",x)\n",
    "for i in range(1,11):\n",
    "    print(\"{} x {} = {}\".format(x,i,x*i))"
   ]
  },
  {
   "cell_type": "code",
   "execution_count": null,
   "metadata": {},
   "outputs": [],
   "source": [
    "#3.Write a Python Program to Print the Fibonacci sequence?"
   ]
  },
  {
   "cell_type": "code",
   "execution_count": 6,
   "metadata": {},
   "outputs": [],
   "source": [
    "def fib(n):\n",
    "    a =0\n",
    "    b= 1\n",
    "    l =[]\n",
    "    for i in range(n):\n",
    "        l.append(a)\n",
    "        a , b = b , a+b\n",
    "    return l  "
   ]
  },
  {
   "cell_type": "code",
   "execution_count": 7,
   "metadata": {},
   "outputs": [
    {
     "data": {
      "text/plain": [
       "[0, 1, 1, 2, 3, 5, 8, 13, 21, 34]"
      ]
     },
     "execution_count": 7,
     "metadata": {},
     "output_type": "execute_result"
    }
   ],
   "source": [
    "fib(10)"
   ]
  },
  {
   "cell_type": "code",
   "execution_count": null,
   "metadata": {},
   "outputs": [],
   "source": [
    "#Q4.Write a Python Program to Check Armstrong Number?"
   ]
  },
  {
   "cell_type": "code",
   "execution_count": 9,
   "metadata": {},
   "outputs": [
    {
     "name": "stdout",
     "output_type": "stream",
     "text": [
      "Enter the given number 160\n",
      "Not an armstrong number\n"
     ]
    }
   ],
   "source": [
    "x=int(input(\"Enter the given number \"))\n",
    "power=len(str(x))\n",
    "y=x\n",
    "sum=0\n",
    "while y>0:\n",
    "    digit=y%10\n",
    "    sum=sum+digit**power\n",
    "    y=y//10\n",
    "if x==sum:\n",
    "    print(\"Number is armstrong number\")\n",
    "else:\n",
    "    print(\"Not an armstrong number\")\n"
   ]
  },
  {
   "cell_type": "code",
   "execution_count": null,
   "metadata": {},
   "outputs": [],
   "source": [
    "#Q5.Write a Python Program to Find Armstrong Number in an Interval?"
   ]
  },
  {
   "cell_type": "code",
   "execution_count": 20,
   "metadata": {},
   "outputs": [
    {
     "name": "stdout",
     "output_type": "stream",
     "text": [
      "lower limit 10\n",
      "upper limit 155\n",
      "153\n"
     ]
    }
   ],
   "source": [
    "n1=int(input(\"lower limit \"))\n",
    "n2=int(input(\"upper limit \"))\n",
    "for num in range(n1,n2+1):\n",
    "    power=len(str(num))\n",
    "    temp = num\n",
    "    sum=0\n",
    "    while temp >0 :\n",
    "        digit =temp % 10\n",
    "        sum=sum+ digit ** power\n",
    "        temp=temp//10\n",
    "    if num==sum:\n",
    "        print(num)"
   ]
  },
  {
   "cell_type": "code",
   "execution_count": null,
   "metadata": {},
   "outputs": [],
   "source": [
    "#Q6.Write a Python Program to Find the Sum of Natural Numbers?"
   ]
  },
  {
   "cell_type": "code",
   "execution_count": 22,
   "metadata": {},
   "outputs": [
    {
     "name": "stdout",
     "output_type": "stream",
     "text": [
      "Enter the number 10\n",
      "sum of first 10th natural number is 55 \n"
     ]
    }
   ],
   "source": [
    "num= int(input(\"Enter the number \"))\n",
    "sum=0\n",
    "for i in range(1,num+1):\n",
    "    sum=sum+i\n",
    "print(\"sum of first {}th natural number is {} \".format(num,sum))"
   ]
  },
  {
   "cell_type": "code",
   "execution_count": null,
   "metadata": {},
   "outputs": [],
   "source": []
  }
 ],
 "metadata": {
  "kernelspec": {
   "display_name": "Python 3",
   "language": "python",
   "name": "python3"
  },
  "language_info": {
   "codemirror_mode": {
    "name": "ipython",
    "version": 3
   },
   "file_extension": ".py",
   "mimetype": "text/x-python",
   "name": "python",
   "nbconvert_exporter": "python",
   "pygments_lexer": "ipython3",
   "version": "3.8.5"
  }
 },
 "nbformat": 4,
 "nbformat_minor": 4
}
